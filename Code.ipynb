{
 "cells": [
  {
   "cell_type": "markdown",
   "metadata": {},
   "source": [
    "<center><a href=\"https://www.nvidia.com/dli\"> <img src=\"images/DLI_Header.png\" alt=\"Header\" style=\"width: 400px;\"/> </a></center>"
   ]
  },
  {
   "cell_type": "markdown",
   "metadata": {},
   "source": [
    "# Assessment"
   ]
  },
  {
   "cell_type": "markdown",
   "metadata": {},
   "source": [
    "Congratulations on going through today's course! Hopefully, you've learned some valuable skills along the way and had fun doing it. Now it's time to put those skills to the test. In this assessment, you will train a new model that is able to recognize fresh and rotten fruit. You will need to get the model to a validation accuracy of `92%` in order to pass the assessment, though we challenge you to do even better if you can. You will have the use the skills that you learned in the previous exercises. Specifically, we suggest using some combination of transfer learning, data augmentation, and fine tuning. Once you have trained the model to be at least 92% accurate on the validation dataset, save your model, and then assess its accuracy. Let's get started! "
   ]
  },
  {
   "cell_type": "markdown",
   "metadata": {},
   "source": [
    "## The Dataset"
   ]
  },
  {
   "cell_type": "markdown",
   "metadata": {},
   "source": [
    "In this exercise, you will train a model to recognize fresh and rotten fruits. The dataset comes from [Kaggle](https://www.kaggle.com/sriramr/fruits-fresh-and-rotten-for-classification), a great place to go if you're interested in starting a project after this class. The dataset structure is in the `data/fruits` folder. There are 6 categories of fruits: fresh apples, fresh oranges, fresh bananas, rotten apples, rotten oranges, and rotten bananas. This will mean that your model will require an output layer of 6 neurons to do the categorization successfully. You'll also need to compile the model with `categorical_crossentropy`, as we have more than two categories."
   ]
  },
  {
   "cell_type": "markdown",
   "metadata": {},
   "source": [
    "<img src=\"./images/fruits.png\" style=\"width: 600px;\">"
   ]
  },
  {
   "cell_type": "markdown",
   "metadata": {},
   "source": [
    "## Load ImageNet Base Model"
   ]
  },
  {
   "cell_type": "markdown",
   "metadata": {},
   "source": [
    "We encourage you to start with a model pretrained on ImageNet. Load the model with the correct weights, set an input shape, and choose to remove the last layers of the model. Remember that images have three dimensions: a height, and width, and a number of channels. Because these pictures are in color, there will be three channels for red, green, and blue. We've filled in the input shape for you. This cannot be changed or the assessment will fail. If you need a reference for setting up the pretrained model, please take a look at [notebook 05b](05b_presidential_doggy_door.ipynb) where we implemented transfer learning."
   ]
  },
  {
   "cell_type": "code",
   "execution_count": 1,
   "metadata": {},
   "outputs": [],
   "source": [
    "from tensorflow import keras\n",
    "\n",
    "base_model = keras.applications.VGG16(\n",
    "    weights='imagenet',\n",
    "    input_shape=(224, 224, 3),\n",
    "    include_top=False)"
   ]
  },
  {
   "cell_type": "markdown",
   "metadata": {},
   "source": [
    "## Freeze Base Model"
   ]
  },
  {
   "cell_type": "markdown",
   "metadata": {},
   "source": [
    "Next, we suggest freezing the base model, as done in [notebook 05b](05b_presidential_doggy_door.ipynb). This is done so that all the learning from the ImageNet dataset does not get destroyed in the initial training."
   ]
  },
  {
   "cell_type": "code",
   "execution_count": 2,
   "metadata": {},
   "outputs": [],
   "source": [
    "# Freeze base model\n",
    "base_model.trainable = False"
   ]
  },
  {
   "cell_type": "markdown",
   "metadata": {},
   "source": [
    "## Add Layers to Model"
   ]
  },
  {
   "cell_type": "markdown",
   "metadata": {},
   "source": [
    "Now it's time to add layers to the pretrained model. [Notebook 05b](05b_presidential_doggy_door.ipynb) can be used as a guide. Pay close attention to the last dense layer and make sure it has the correct number of neurons to classify the different types of fruit."
   ]
  },
  {
   "cell_type": "code",
   "execution_count": 9,
   "metadata": {},
   "outputs": [],
   "source": [
    "# Create inputs with correct shape\n",
    "inputs = keras.Input(shape=(224, 224, 3))\n",
    "\n",
    "x = base_model(inputs, training=False)\n",
    "\n",
    "# Add pooling layer or flatten layer\n",
    "x = keras.layers.GlobalAveragePooling2D()(x)\n",
    "\n",
    "# Add final dense layer\n",
    "outputs = keras.layers.Dense(6, activation = 'softmax')(x)\n",
    "\n",
    "# Combine inputs and outputs to create model\n",
    "model = keras.Model(inputs,outputs)"
   ]
  },
  {
   "cell_type": "code",
   "execution_count": 10,
   "metadata": {},
   "outputs": [
    {
     "name": "stdout",
     "output_type": "stream",
     "text": [
      "Model: \"model_1\"\n",
      "_________________________________________________________________\n",
      "Layer (type)                 Output Shape              Param #   \n",
      "=================================================================\n",
      "input_3 (InputLayer)         [(None, 224, 224, 3)]     0         \n",
      "_________________________________________________________________\n",
      "vgg16 (Model)                (None, 7, 7, 512)         14714688  \n",
      "_________________________________________________________________\n",
      "global_average_pooling2d_1 ( (None, 512)               0         \n",
      "_________________________________________________________________\n",
      "dense_1 (Dense)              (None, 6)                 3078      \n",
      "=================================================================\n",
      "Total params: 14,717,766\n",
      "Trainable params: 3,078\n",
      "Non-trainable params: 14,714,688\n",
      "_________________________________________________________________\n"
     ]
    }
   ],
   "source": [
    "model.summary()"
   ]
  },
  {
   "cell_type": "markdown",
   "metadata": {},
   "source": [
    "## Compile Model"
   ]
  },
  {
   "cell_type": "markdown",
   "metadata": {},
   "source": [
    "Now it's time to compile the model with loss and metrics options. Remember that we're training on a number of different categories, rather than a binary classification problem."
   ]
  },
  {
   "cell_type": "code",
   "execution_count": 11,
   "metadata": {},
   "outputs": [],
   "source": [
    "model.compile(loss = keras.losses.CategoricalCrossentropy(from_logits=True), metrics = ['accuracy'])"
   ]
  },
  {
   "cell_type": "markdown",
   "metadata": {},
   "source": [
    "## Augment the Data"
   ]
  },
  {
   "cell_type": "markdown",
   "metadata": {},
   "source": [
    "If you'd like, try to augment the data to improve the dataset. Feel free to look at [notebook 04a](04a_asl_augmentation.ipynb) and [notebook 05b](05b_presidential_doggy_door.ipynb) for augmentation examples. There is also documentation for the [Keras ImageDataGenerator class](https://keras.io/api/preprocessing/image/#imagedatagenerator-class). This step is optional, but it may be helpful to get to 92% accuracy."
   ]
  },
  {
   "cell_type": "code",
   "execution_count": 12,
   "metadata": {},
   "outputs": [],
   "source": [
    "from tensorflow.keras.preprocessing.image import ImageDataGenerator\n",
    "\n",
    "datagen_train = ImageDataGenerator(\n",
    "    samplewise_center=True,  \n",
    "    rotation_range=30,  \n",
    "    zoom_range=0.1,  \n",
    "    width_shift_range=0.1, \n",
    "    height_shift_range=0.1, \n",
    "    horizontal_flip=True,  \n",
    "    vertical_flip=True,\n",
    ")\n",
    "datagen_valid = ImageDataGenerator(samplewise_center=True)"
   ]
  },
  {
   "cell_type": "markdown",
   "metadata": {},
   "source": [
    "## Load Dataset"
   ]
  },
  {
   "cell_type": "markdown",
   "metadata": {},
   "source": [
    "Now it's time to load the train and validation datasets. Pick the right folders, as well as the right `target_size` of the images (it needs to match the height and width input of the model you've created). For a reference, check out [notebook 05b](05b_presidential_doggy_door.ipynb)."
   ]
  },
  {
   "cell_type": "code",
   "execution_count": 13,
   "metadata": {},
   "outputs": [
    {
     "name": "stdout",
     "output_type": "stream",
     "text": [
      "Found 1182 images belonging to 6 classes.\n",
      "Found 329 images belonging to 6 classes.\n"
     ]
    }
   ],
   "source": [
    "# load and iterate training dataset\n",
    "train_it = datagen_train.flow_from_directory(\n",
    "    \"data/fruits/train/\",\n",
    "    target_size=(224, 224),\n",
    "    color_mode=\"rgb\",\n",
    "    class_mode=\"categorical\",\n",
    ")\n",
    "# load and iterate validation dataset\n",
    "valid_it = datagen_valid.flow_from_directory(\n",
    "    \"data/fruits/valid/\",\n",
    "    target_size=(224, 224),\n",
    "    color_mode=\"rgb\",\n",
    "    class_mode=\"categorical\",\n",
    ")"
   ]
  },
  {
   "cell_type": "markdown",
   "metadata": {},
   "source": [
    "## Train the Model"
   ]
  },
  {
   "cell_type": "markdown",
   "metadata": {},
   "source": [
    "Time to train the model! Pass the `train` and `valid` iterators into the `fit` function, as well as setting the desired number of epochs."
   ]
  },
  {
   "cell_type": "code",
   "execution_count": 14,
   "metadata": {},
   "outputs": [
    {
     "name": "stdout",
     "output_type": "stream",
     "text": [
      "Epoch 1/20\n",
      "37/36 [==============================] - 22s 584ms/step - loss: 1.6054 - accuracy: 0.4264 - val_loss: 1.4272 - val_accuracy: 0.6109\n",
      "Epoch 2/20\n",
      "37/36 [==============================] - 17s 454ms/step - loss: 1.4307 - accuracy: 0.6125 - val_loss: 1.3475 - val_accuracy: 0.7082\n",
      "Epoch 3/20\n",
      "37/36 [==============================] - 17s 455ms/step - loss: 1.3766 - accuracy: 0.6692 - val_loss: 1.3066 - val_accuracy: 0.7416\n",
      "Epoch 4/20\n",
      "37/36 [==============================] - 17s 456ms/step - loss: 1.3622 - accuracy: 0.6794 - val_loss: 1.3302 - val_accuracy: 0.7173\n",
      "Epoch 5/20\n",
      "37/36 [==============================] - 17s 455ms/step - loss: 1.3512 - accuracy: 0.6954 - val_loss: 1.3368 - val_accuracy: 0.7052\n",
      "Epoch 6/20\n",
      "37/36 [==============================] - 17s 452ms/step - loss: 1.3500 - accuracy: 0.6904 - val_loss: 1.3310 - val_accuracy: 0.7143\n",
      "Epoch 7/20\n",
      "37/36 [==============================] - 17s 452ms/step - loss: 1.3449 - accuracy: 0.6954 - val_loss: 1.3245 - val_accuracy: 0.7204\n",
      "Epoch 8/20\n",
      "37/36 [==============================] - 17s 453ms/step - loss: 1.3007 - accuracy: 0.7496 - val_loss: 1.2682 - val_accuracy: 0.7812\n",
      "Epoch 9/20\n",
      "37/36 [==============================] - 17s 453ms/step - loss: 1.2557 - accuracy: 0.7961 - val_loss: 1.2221 - val_accuracy: 0.8359\n",
      "Epoch 10/20\n",
      "37/36 [==============================] - 17s 453ms/step - loss: 1.2344 - accuracy: 0.8105 - val_loss: 1.2123 - val_accuracy: 0.8328\n",
      "Epoch 11/20\n",
      "37/36 [==============================] - 17s 450ms/step - loss: 1.2296 - accuracy: 0.8181 - val_loss: 1.2037 - val_accuracy: 0.8359\n",
      "Epoch 12/20\n",
      "37/36 [==============================] - 17s 458ms/step - loss: 1.2171 - accuracy: 0.8308 - val_loss: 1.2006 - val_accuracy: 0.8450\n",
      "Epoch 13/20\n",
      "37/36 [==============================] - 17s 452ms/step - loss: 1.2183 - accuracy: 0.8249 - val_loss: 1.2174 - val_accuracy: 0.8237\n",
      "Epoch 14/20\n",
      "37/36 [==============================] - 17s 450ms/step - loss: 1.2158 - accuracy: 0.8291 - val_loss: 1.2058 - val_accuracy: 0.8450\n",
      "Epoch 15/20\n",
      "37/36 [==============================] - 17s 451ms/step - loss: 1.2150 - accuracy: 0.8325 - val_loss: 1.1929 - val_accuracy: 0.8511\n",
      "Epoch 16/20\n",
      "37/36 [==============================] - 17s 455ms/step - loss: 1.2123 - accuracy: 0.8308 - val_loss: 1.2097 - val_accuracy: 0.8359\n",
      "Epoch 17/20\n",
      "37/36 [==============================] - 17s 452ms/step - loss: 1.2107 - accuracy: 0.8325 - val_loss: 1.2035 - val_accuracy: 0.8419\n",
      "Epoch 18/20\n",
      "37/36 [==============================] - 17s 453ms/step - loss: 1.2102 - accuracy: 0.8350 - val_loss: 1.1664 - val_accuracy: 0.8754\n",
      "Epoch 19/20\n",
      "37/36 [==============================] - 17s 453ms/step - loss: 1.2059 - accuracy: 0.8367 - val_loss: 1.2113 - val_accuracy: 0.8328\n",
      "Epoch 20/20\n",
      "37/36 [==============================] - 17s 456ms/step - loss: 1.2066 - accuracy: 0.8384 - val_loss: 1.2007 - val_accuracy: 0.8419\n"
     ]
    },
    {
     "data": {
      "text/plain": [
       "<tensorflow.python.keras.callbacks.History at 0x7efe90f3fc18>"
      ]
     },
     "execution_count": 14,
     "metadata": {},
     "output_type": "execute_result"
    }
   ],
   "source": [
    "model.fit(train_it,\n",
    "          validation_data=valid_it,\n",
    "          steps_per_epoch=train_it.samples/train_it.batch_size,\n",
    "          validation_steps=valid_it.samples/valid_it.batch_size,\n",
    "          epochs=20)"
   ]
  },
  {
   "cell_type": "markdown",
   "metadata": {},
   "source": [
    "## Unfreeze Model for Fine Tuning"
   ]
  },
  {
   "cell_type": "markdown",
   "metadata": {},
   "source": [
    "If you have reached 92% validation accuracy already, this next step is optional. If not, we suggest fine tuning the model with a very low learning rate."
   ]
  },
  {
   "cell_type": "code",
   "execution_count": 20,
   "metadata": {},
   "outputs": [],
   "source": [
    "# Unfreeze the base model\n",
    "base_model.trainable = True\n",
    "\n",
    "# Compile the model with a low learning rate\n",
    "model.compile(optimizer=keras.optimizers.RMSprop(learning_rate = .00001),\n",
    "              loss = keras.losses.CategoricalCrossentropy(from_logits=True), metrics = ['accuracy'])"
   ]
  },
  {
   "cell_type": "code",
   "execution_count": 21,
   "metadata": {},
   "outputs": [
    {
     "name": "stdout",
     "output_type": "stream",
     "text": [
      "Epoch 1/20\n",
      "37/36 [==============================] - 31s 841ms/step - loss: 1.2368 - accuracy: 0.8020 - val_loss: 1.2051 - val_accuracy: 0.8389\n",
      "Epoch 2/20\n",
      "37/36 [==============================] - 19s 509ms/step - loss: 1.2082 - accuracy: 0.8367 - val_loss: 1.1928 - val_accuracy: 0.8511\n",
      "Epoch 3/20\n",
      "37/36 [==============================] - 18s 493ms/step - loss: 1.1984 - accuracy: 0.8452 - val_loss: 1.1952 - val_accuracy: 0.8480\n",
      "Epoch 4/20\n",
      "37/36 [==============================] - 18s 499ms/step - loss: 1.2013 - accuracy: 0.8401 - val_loss: 1.1851 - val_accuracy: 0.8541\n",
      "Epoch 5/20\n",
      "37/36 [==============================] - 19s 500ms/step - loss: 1.1962 - accuracy: 0.8452 - val_loss: 1.1823 - val_accuracy: 0.8602\n",
      "Epoch 6/20\n",
      "37/36 [==============================] - 19s 515ms/step - loss: 1.1988 - accuracy: 0.8426 - val_loss: 1.2205 - val_accuracy: 0.8207\n",
      "Epoch 7/20\n",
      "37/36 [==============================] - 19s 517ms/step - loss: 1.1967 - accuracy: 0.8443 - val_loss: 1.1711 - val_accuracy: 0.8693\n",
      "Epoch 8/20\n",
      "37/36 [==============================] - 19s 500ms/step - loss: 1.2000 - accuracy: 0.8393 - val_loss: 1.1934 - val_accuracy: 0.8480\n",
      "Epoch 9/20\n",
      "37/36 [==============================] - 19s 510ms/step - loss: 1.1938 - accuracy: 0.8477 - val_loss: 1.2072 - val_accuracy: 0.8328\n",
      "Epoch 10/20\n",
      "37/36 [==============================] - 19s 510ms/step - loss: 1.1979 - accuracy: 0.8435 - val_loss: 1.1959 - val_accuracy: 0.8450\n",
      "Epoch 11/20\n",
      "37/36 [==============================] - 19s 513ms/step - loss: 1.1931 - accuracy: 0.8477 - val_loss: 1.1840 - val_accuracy: 0.8571\n",
      "Epoch 12/20\n",
      "37/36 [==============================] - 19s 512ms/step - loss: 1.1945 - accuracy: 0.8452 - val_loss: 1.1849 - val_accuracy: 0.8571\n",
      "Epoch 13/20\n",
      "37/36 [==============================] - 19s 507ms/step - loss: 1.1931 - accuracy: 0.8460 - val_loss: 1.1768 - val_accuracy: 0.8632\n",
      "Epoch 14/20\n",
      "37/36 [==============================] - 19s 522ms/step - loss: 1.1948 - accuracy: 0.8435 - val_loss: 1.2154 - val_accuracy: 0.8237\n",
      "Epoch 15/20\n",
      "37/36 [==============================] - 19s 521ms/step - loss: 1.1944 - accuracy: 0.8452 - val_loss: 1.1921 - val_accuracy: 0.8450\n",
      "Epoch 16/20\n",
      "37/36 [==============================] - 20s 528ms/step - loss: 1.1869 - accuracy: 0.8519 - val_loss: 1.1764 - val_accuracy: 0.8632\n",
      "Epoch 17/20\n",
      "37/36 [==============================] - 20s 527ms/step - loss: 1.1889 - accuracy: 0.8486 - val_loss: 1.1902 - val_accuracy: 0.8480\n",
      "Epoch 18/20\n",
      "37/36 [==============================] - 19s 524ms/step - loss: 1.1074 - accuracy: 0.9382 - val_loss: 1.0921 - val_accuracy: 0.9544\n",
      "Epoch 19/20\n",
      "37/36 [==============================] - 20s 529ms/step - loss: 1.0711 - accuracy: 0.9729 - val_loss: 1.0730 - val_accuracy: 0.9726\n",
      "Epoch 20/20\n",
      "37/36 [==============================] - 20s 531ms/step - loss: 1.0625 - accuracy: 0.9831 - val_loss: 1.0762 - val_accuracy: 0.9726\n"
     ]
    },
    {
     "data": {
      "text/plain": [
       "<tensorflow.python.keras.callbacks.History at 0x7efe90a84d30>"
      ]
     },
     "execution_count": 21,
     "metadata": {},
     "output_type": "execute_result"
    }
   ],
   "source": [
    "model.fit(train_it,\n",
    "          validation_data=valid_it,\n",
    "          steps_per_epoch=train_it.samples/train_it.batch_size,\n",
    "          validation_steps=valid_it.samples/valid_it.batch_size,\n",
    "          epochs=20)"
   ]
  },
  {
   "cell_type": "markdown",
   "metadata": {},
   "source": [
    "## Evaluate the Model"
   ]
  },
  {
   "cell_type": "markdown",
   "metadata": {},
   "source": [
    "Hopefully, you now have a model that has a validation accuracy of 92% or higher. If not, you may want to go back and either run more epochs of training, or adjust your data augmentation. \n",
    "\n",
    "Once you are satisfied with the validation accuracy, evaluate the model by executing the following cell. The evaluate function will return a tuple, where the first value is your loss, and the second value is your accuracy. To pass, the model will need have an accuracy value of `92% or higher`. "
   ]
  },
  {
   "cell_type": "code",
   "execution_count": 22,
   "metadata": {},
   "outputs": [
    {
     "name": "stdout",
     "output_type": "stream",
     "text": [
      "11/10 [================================] - 2s 150ms/step - loss: 1.0705 - accuracy: 0.9787\n"
     ]
    },
    {
     "data": {
      "text/plain": [
       "[1.0704773664474487, 0.978723406791687]"
      ]
     },
     "execution_count": 22,
     "metadata": {},
     "output_type": "execute_result"
    }
   ],
   "source": [
    "model.evaluate(valid_it, steps=valid_it.samples/valid_it.batch_size)"
   ]
  },
  {
   "cell_type": "markdown",
   "metadata": {},
   "source": [
    "## Run the Assessment"
   ]
  },
  {
   "cell_type": "markdown",
   "metadata": {},
   "source": [
    "To assess your model run the following two cells.\n",
    "\n",
    "**NOTE:** `run_assessment` assumes your model is named `model` and your validation data iterator is called `valid_it`. If for any reason you have modified these variable names, please update the names of the arguments passed to `run_assessment`."
   ]
  },
  {
   "cell_type": "code",
   "execution_count": 23,
   "metadata": {},
   "outputs": [],
   "source": [
    "from run_assessment import run_assessment"
   ]
  },
  {
   "cell_type": "code",
   "execution_count": 24,
   "metadata": {},
   "outputs": [
    {
     "name": "stdout",
     "output_type": "stream",
     "text": [
      "Evaluating model 5 times to obtain average accuracy...\n",
      "\n",
      "11/10 [================================] - 2s 149ms/step - loss: 1.0673 - accuracy: 0.9818\n",
      "11/10 [================================] - 2s 148ms/step - loss: 1.0770 - accuracy: 0.9726\n",
      "11/10 [================================] - 2s 160ms/step - loss: 1.0696 - accuracy: 0.9787\n",
      "11/10 [================================] - 2s 143ms/step - loss: 1.0709 - accuracy: 0.9787\n",
      "11/10 [================================] - 2s 149ms/step - loss: 1.0701 - accuracy: 0.9787\n",
      "\n",
      "Accuracy required to pass the assessment is 0.92 or greater.\n",
      "Your average accuracy is 0.9781.\n",
      "\n",
      "Congratulations! You passed the assessment!\n",
      "See instructions below to generate a certificate.\n"
     ]
    }
   ],
   "source": [
    "run_assessment(model, valid_it)"
   ]
  },
  {
   "cell_type": "markdown",
   "metadata": {},
   "source": [
    "## Generate a Certificate"
   ]
  },
  {
   "cell_type": "markdown",
   "metadata": {},
   "source": [
    "If you passed the assessment, please return to the course page (shown below) and click the \"ASSESS TASK\" button, which will generate your certificate for the course."
   ]
  },
  {
   "cell_type": "markdown",
   "metadata": {},
   "source": [
    "<img src=\"./images/assess_task.png\" style=\"width: 800px;\">"
   ]
  },
  {
   "cell_type": "markdown",
   "metadata": {},
   "source": [
    "<center><a href=\"https://www.nvidia.com/dli\"> <img src=\"images/DLI_Header.png\" alt=\"Header\" style=\"width: 400px;\"/> </a></center>"
   ]
  }
 ],
 "metadata": {
  "kernelspec": {
   "display_name": "Python 3",
   "language": "python",
   "name": "python3"
  },
  "language_info": {
   "codemirror_mode": {
    "name": "ipython",
    "version": 3
   },
   "file_extension": ".py",
   "mimetype": "text/x-python",
   "name": "python",
   "nbconvert_exporter": "python",
   "pygments_lexer": "ipython3",
   "version": "3.6.9"
  }
 },
 "nbformat": 4,
 "nbformat_minor": 4
}
